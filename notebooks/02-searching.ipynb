{
 "cells": [
  {
   "cell_type": "markdown",
   "id": "cf688af1",
   "metadata": {},
   "source": [
    "# Searching through the index\n",
    "In this tutorial we demonstrate how to search through an index build with HuggingFace and Pyserini. Check out previous tutorials to learn how to build the index in the first place:\n",
    "- https://github.com/huggingface/gaia/blob/main/notebooks/00-indexing.ipynb\n",
    "- https://github.com/huggingface/gaia/blob/main/notebooks/01-tokenization.ipynb\n",
    "\n",
    "We start by creating a `searcher` object which gives us access to underlying Lucene API."
   ]
  },
  {
   "cell_type": "code",
   "execution_count": 19,
   "id": "c376038a-6582-4523-9de7-dd5699dd04f0",
   "metadata": {
    "tags": []
   },
   "outputs": [],
   "source": [
    "from datasets import load_dataset\n",
    "from pyserini.search.lucene import LuceneSearcher\n",
    "from pyserini.analysis import get_lucene_analyzer"
   ]
  },
  {
   "cell_type": "code",
   "execution_count": 20,
   "id": "bbd1fd66-2905-4e3f-b2cd-7879357e182d",
   "metadata": {
    "tags": []
   },
   "outputs": [],
   "source": [
    "searcher = LuceneSearcher(\"../indexes/imdb\")"
   ]
  },
  {
   "cell_type": "markdown",
   "id": "dc7fa853",
   "metadata": {},
   "source": [
    "We can search through the index with a smiple `search` function, providing the query and a maximum number of requested results."
   ]
  },
  {
   "cell_type": "code",
   "execution_count": 21,
   "id": "8b4ba379-cf18-4a14-a83f-43804419d534",
   "metadata": {
    "tags": []
   },
   "outputs": [
    {
     "name": "stdout",
     "output_type": "stream",
     "text": [
      "CPU times: user 6 µs, sys: 6 µs, total: 12 µs\n",
      "Wall time: 23.6 µs\n"
     ]
    }
   ],
   "source": [
    "%time\n",
    "hits = searcher.search(\"Horrible movie\", k=5)"
   ]
  },
  {
   "cell_type": "code",
   "execution_count": 22,
   "id": "f75653b6-46c0-4ce0-b896-0238f70d6b5f",
   "metadata": {
    "tags": []
   },
   "outputs": [
    {
     "name": "stdout",
     "output_type": "stream",
     "text": [
      "Document 1765, score: 2.965100049972534\n",
      "this movie was horrible. I could barely stay awake through it. I would never see this movie again if I were payed to. The so-called horror scenes in it were increadably predictable and over played. There was really nothing about this movie that would have made it original or worth the $7.50 I payed to see it. Don't go see it, don't rent it, don't read about it online because any of these things would be a complete waste of your time. Sarah Michelle Geller gave a lackluster performance and really...\n",
      "\n",
      "\n",
      "Document 3685, score: 2.9449000358581543\n",
      "A patient escapes from a mental hospital, killing one of his keepers and then a University professor after he makes his way to the local college. Next semester, the late prof's replacement and a new group of students have to deal with a new batch of killings. The dialogue is so clichéd it is hard to believe that I was able to predict lines in quotes. This is one of those cheap movies that was thrown together in the middle of the slasher era of the '80's. Despite killing the heroine off, this is ...\n",
      "\n",
      "\n",
      "Document 11077, score: 2.902400016784668\n",
      "Prior to watching \"Dahmer,\" I thought no movie could be worse than \"Freddy Got Fingered.\" I was wrong. To sum \"Dahmer\" up, it's a story about a gay serial killer which features almost no killing and almost entirely consists of Dahmer's encounters with gay men before they were killed. There is no plot to be found, and it serves no purpose as far as telling us anything about \"Dahmer.\" All you'll learn about Dahmer from watching this movie is that he liked to have sex with men. Horrible acting, hor...\n",
      "\n",
      "\n",
      "Document 9233, score: 2.8859000205993652\n",
      "Me and a group of friends rent horrible videos to laugh at them, trust me it has lead to some horribly spent money but also some great laughs. S.I.C.K. is one of the better horror-but-funny movie we've rented. The plot is over-done, the whole take your friends into the woods and never return thing is very old. The goriest part of the movie looks like your visiting the local butcher shop except a little dirtier and with blood on the play dough looking meat. And if anyone has ever been scared of t...\n",
      "\n",
      "\n",
      "Document 2873, score: 2.8440001010894775\n",
      "Horrible, Horrible, Horrible do not waste your money to rent this movie. Its like a low budget made for TV Canadian movie. Absolutely the worst movie I have ever seen and there have been many others out there. This movie is not worth the time it takes to put it in the DVD player or VCR. :~( . Is it possible to write ten lines? The acting was horrific. It had absolutely no flow. I saw the made for TV movie on the BTK killer and it was much better(in comparison to this one). I am not sure what the...\n",
      "\n",
      "\n"
     ]
    }
   ],
   "source": [
    "for hit in hits:\n",
    "    print(f\"Document {hit.docid}, score: {hit.score}\")\n",
    "    print(f\"{hit.contents[:500]}...\\n\\n\")"
   ]
  },
  {
   "cell_type": "markdown",
   "id": "b9ee64ef",
   "metadata": {},
   "source": [
    "## Tying the search results back to the dataset\n",
    "Because we used HF datasets as the source of indexed documents preserving their original document IDs, we can leverage it when performing the analysis of retrieved results. This may come in handy if the HF datasets contains useful metadata which we don't want to store inside the Pyserini index not to inflate its size."
   ]
  },
  {
   "cell_type": "code",
   "execution_count": 26,
   "id": "8b4dbbe5",
   "metadata": {},
   "outputs": [
    {
     "name": "stderr",
     "output_type": "stream",
     "text": [
      "Found cached dataset imdb (/home/piktus_huggingface_co/.cache/huggingface/datasets/imdb/plain_text/1.0.0/d613c88cf8fa3bab83b4ded3713f1f74830d1100e171db75bbddb80b3345c9c0)\n"
     ]
    }
   ],
   "source": [
    "dset = load_dataset(\"imdb\", split=\"train\")"
   ]
  },
  {
   "cell_type": "code",
   "execution_count": 27,
   "id": "152f4759",
   "metadata": {},
   "outputs": [
    {
     "name": "stdout",
     "output_type": "stream",
     "text": [
      "Document 1765, score: 2.965100049972534\n",
      "this movie was horrible. I could barely stay awake through it. I would never see this movie again if I were payed to. The so-called horror scenes in it were increadably predictable and over played. There was really nothing about this movie that would have made it original or worth the $7.50 I payed to see it. Don't go see it, don't rent it, don't read about it online because any of these things would be a complete waste of your time. Sarah Michelle Geller gave a lackluster performance and really...\n",
      "{'text': \"this movie was horrible. I could barely stay awake through it. I would never see this movie again if I were payed to. The so-called horror scenes in it were increadably predictable and over played. There was really nothing about this movie that would have made it original or worth the $7.50 I payed to see it. Don't go see it, don't rent it, don't read about it online because any of these things would be a complete waste of your time. Sarah Michelle Geller gave a lackluster performance and really should be ashamed of herself for sullying her good name with this movie. Shame on you Sarah for being associated with this horrible, horrible movie. Horrible movie, no need to ever see it.\", 'label': 0}\n",
      "\n",
      "Document 3685, score: 2.9449000358581543\n",
      "A patient escapes from a mental hospital, killing one of his keepers and then a University professor after he makes his way to the local college. Next semester, the late prof's replacement and a new group of students have to deal with a new batch of killings. The dialogue is so clichéd it is hard to believe that I was able to predict lines in quotes. This is one of those cheap movies that was thrown together in the middle of the slasher era of the '80's. Despite killing the heroine off, this is ...\n",
      "{'text': 'A patient escapes from a mental hospital, killing one of his keepers and then a University professor after he makes his way to the local college. Next semester, the late prof\\'s replacement and a new group of students have to deal with a new batch of killings. The dialogue is so clichéd it is hard to believe that I was able to predict lines in quotes. This is one of those cheap movies that was thrown together in the middle of the slasher era of the \\'80\\'s. Despite killing the heroine off, this is just substandard junk. Horrible acting, horrible script, horrible effects, horrible horrible horrible!! \"Splatter University\" is just gunk to put in your VCR when you have nothing better to do, although I suggest watching your head cleaner tape, that would be more entertaining. Skip it and rent \"Girl\\'s Nite Out\" instead.<br /><br />Rated R for Strong Graphic Violence, Profanity, Brief Nudity and Sexual Situations.', 'label': 0}\n",
      "\n",
      "Document 11077, score: 2.902400016784668\n",
      "Prior to watching \"Dahmer,\" I thought no movie could be worse than \"Freddy Got Fingered.\" I was wrong. To sum \"Dahmer\" up, it's a story about a gay serial killer which features almost no killing and almost entirely consists of Dahmer's encounters with gay men before they were killed. There is no plot to be found, and it serves no purpose as far as telling us anything about \"Dahmer.\" All you'll learn about Dahmer from watching this movie is that he liked to have sex with men. Horrible acting, hor...\n",
      "{'text': 'Prior to watching \"Dahmer,\" I thought no movie could be worse than \"Freddy Got Fingered.\" I was wrong. To sum \"Dahmer\" up, it\\'s a story about a gay serial killer which features almost no killing and almost entirely consists of Dahmer\\'s encounters with gay men before they were killed. There is no plot to be found, and it serves no purpose as far as telling us anything about \"Dahmer.\" All you\\'ll learn about Dahmer from watching this movie is that he liked to have sex with men. Horrible acting, horrible directing, horrible writing, horrible everything... If you have to choose between watching \"Dahmer\" and projectile vomiting for three hours, go with the vomiting .... it wll be less painful.....', 'label': 0}\n",
      "\n",
      "Document 9233, score: 2.8859000205993652\n",
      "Me and a group of friends rent horrible videos to laugh at them, trust me it has lead to some horribly spent money but also some great laughs. S.I.C.K. is one of the better horror-but-funny movie we've rented. The plot is over-done, the whole take your friends into the woods and never return thing is very old. The goriest part of the movie looks like your visiting the local butcher shop except a little dirtier and with blood on the play dough looking meat. And if anyone has ever been scared of t...\n",
      "{'text': \"Me and a group of friends rent horrible videos to laugh at them, trust me it has lead to some horribly spent money but also some great laughs. S.I.C.K. is one of the better horror-but-funny movie we've rented. The plot is over-done, the whole take your friends into the woods and never return thing is very old. The goriest part of the movie looks like your visiting the local butcher shop except a little dirtier and with blood on the play dough looking meat. And if anyone has ever been scared of this movie at any time they should stick to Cartoon Network for the rest of their life, it's pathetic. The good aspects of the movie are that the two girls in it are reasonably hot, one better then the other and you see them both naked during the movie. The other good aspect is that this movie is so bad at times that you will laugh till you cry. I don't like watching horrible acting or renting these horrible videos, I don't find that fun but seeing the amount of effort these people put into it and still come out so bad is hilarious and worth renting.Unless you are too mature to laugh at someone's downfalls I would recommend it.<br /><br />If your renting/buying it to laugh at it I'd give it an 8.5.\", 'label': 0}\n",
      "\n",
      "Document 2873, score: 2.8440001010894775\n",
      "Horrible, Horrible, Horrible do not waste your money to rent this movie. Its like a low budget made for TV Canadian movie. Absolutely the worst movie I have ever seen and there have been many others out there. This movie is not worth the time it takes to put it in the DVD player or VCR. :~( . Is it possible to write ten lines? The acting was horrific. It had absolutely no flow. I saw the made for TV movie on the BTK killer and it was much better(in comparison to this one). I am not sure what the...\n",
      "{'text': 'Horrible, Horrible, Horrible do not waste your money to rent this movie. Its like a low budget made for TV Canadian movie. Absolutely the worst movie I have ever seen and there have been many others out there. This movie is not worth the time it takes to put it in the DVD player or VCR. :~( . Is it possible to write ten lines? The acting was horrific. It had absolutely no flow. I saw the made for TV movie on the BTK killer and it was much better(in comparison to this one). I am not sure what they were going for in producing this film but if it was to educate us or tell a story about the BTK killer they missed by a mile. It appeared to be more of a infomercial for animal rights.', 'label': 0}\n",
      "\n"
     ]
    }
   ],
   "source": [
    "for hit in hits:\n",
    "    print(f\"Document {hit.docid}, score: {hit.score}\")\n",
    "    print(f\"{hit.contents[:500]}...\")\n",
    "    print(dset[int(hit.docid)])\n",
    "    print()"
   ]
  },
  {
   "cell_type": "markdown",
   "id": "4258d4cb",
   "metadata": {},
   "source": [
    "## Health check on Streamed Datasets\n",
    "Let's make sure the index build in https://github.com/huggingface/gaia/blob/main/notebooks/00-indexing.ipynb using streaming is the same as the one build from offline data. "
   ]
  },
  {
   "cell_type": "code",
   "execution_count": 28,
   "id": "0d16c4ef-53a5-42f2-9147-ecb590d0a607",
   "metadata": {
    "tags": []
   },
   "outputs": [],
   "source": [
    "searcher = LuceneSearcher(\"../indexes/imdb-streaming/\")"
   ]
  },
  {
   "cell_type": "code",
   "execution_count": 29,
   "id": "557090d2-139f-4521-92c8-2967d1c9a4c2",
   "metadata": {
    "tags": []
   },
   "outputs": [
    {
     "name": "stdout",
     "output_type": "stream",
     "text": [
      "CPU times: user 5 µs, sys: 5 µs, total: 10 µs\n",
      "Wall time: 37.4 µs\n"
     ]
    }
   ],
   "source": [
    "%time\n",
    "hits = searcher.search(\"Horrible movie\", k=10)"
   ]
  },
  {
   "cell_type": "code",
   "execution_count": 30,
   "id": "b3f09d7f-9926-404a-927a-d929fa2d6a20",
   "metadata": {
    "tags": []
   },
   "outputs": [
    {
     "name": "stdout",
     "output_type": "stream",
     "text": [
      "Document 1765, score 2.965100049972534\n",
      "Document 3685, score 2.9449000358581543\n",
      "Document 11077, score 2.902400016784668\n",
      "Document 9233, score 2.8859000205993652\n",
      "Document 2873, score 2.8440001010894775\n",
      "Document 1140, score 2.837399959564209\n",
      "Document 3335, score 2.81850004196167\n",
      "Document 5370, score 2.8125998973846436\n",
      "Document 5692, score 2.812598943710327\n",
      "Document 6744, score 2.7985999584198\n"
     ]
    }
   ],
   "source": [
    "for hit in hits:\n",
    "    print(f\"Document {hit.docid}, score {hit.score}\")"
   ]
  },
  {
   "cell_type": "markdown",
   "id": "fda08f41",
   "metadata": {},
   "source": [
    "## Search Results for the Index with Hugging Face tokenization\n",
    "The index differes from the one using the default English Analyser, so search results are also different."
   ]
  },
  {
   "cell_type": "code",
   "execution_count": 31,
   "id": "116279c7-09a6-4037-a1cb-855f9b3f83de",
   "metadata": {
    "tags": []
   },
   "outputs": [],
   "source": [
    "hf_tokenizer_searcher = LuceneSearcher(\"../indexes/bpe-imdb-25k/\")\n",
    "hf_analyzer = get_lucene_analyzer(\n",
    "    language=\"hgf_tokenizer\", huggingFaceTokenizer=\"spacerini/bpe-imdb-25k\"\n",
    ")\n",
    "hf_tokenizer_searcher.set_analyzer(hf_analyzer)"
   ]
  },
  {
   "cell_type": "code",
   "execution_count": 32,
   "id": "ac1bdf16-659f-445f-86e1-8eab946ec64e",
   "metadata": {
    "tags": []
   },
   "outputs": [
    {
     "name": "stdout",
     "output_type": "stream",
     "text": [
      "CPU times: user 8 µs, sys: 7 µs, total: 15 µs\n",
      "Wall time: 30.3 µs\n"
     ]
    }
   ],
   "source": [
    "%time\n",
    "hits = hf_tokenizer_searcher.search(\"Horrible movie\", k=10)"
   ]
  },
  {
   "cell_type": "code",
   "execution_count": 35,
   "id": "81f8dbea-d4bd-4fe2-9efb-efc09efa132a",
   "metadata": {
    "tags": []
   },
   "outputs": [
    {
     "name": "stdout",
     "output_type": "stream",
     "text": [
      "Document 2873, score: 5.376500129699707\n",
      "Horrible, Horrible, Horrible do not waste your money to rent this movie. Its like a low budget made for TV Canadian movie. Absolutely the worst movie I have ever seen and there have been many others out there. This movie is not worth the time it takes to put it in the DVD player or VCR. :~( . Is it possible to write ten lines? The acting was horrific. It had absolutely no flow. I saw the made for TV movie on the BTK killer and it was much better(in comparison to this one). I am not sure what the...\n",
      "\n",
      "Document 1140, score: 4.942500114440918\n",
      "Horrible acting, horrible cast and cheap props. Would've been a lot better if was set as an action parody style movie. What a waste. Starting from the name of the movie.<br /><br />\"The Enemy\" Naming it \"Action Movie\" would've made it better. (contributing to the parody effect). The cop looking like a 60 Year old player, the blond girl just having the same blank boring look on her face at all times. Towards the end of the movie him and her are working together to take down the bad guys and every...\n",
      "\n",
      "Document 857, score: 4.7393999099731445\n",
      "This has the logical consistency of marshmallows filled with ketchup, and the overall aftertaste is just as disgusting. <br /><br />Will be used in the 9th circle of Hell at recreation time. Just plain torture.<br /><br />I would rather choose to watch 90 minutes of my computer going through 5400 blue screens of death than watch this appalling drivel again - ever. Horrible. Horrible. Horrible.<br /><br />You know, the good thing about Swiss Cheese is that along with the holes you get some cheese...\n",
      "\n",
      "Document 1637, score: 4.26039981842041\n",
      "The only saving grace of this movie is that it serves as the 0 end of the movie rating scale. Now if I see a movie that really stinks I say this movie was a real Pecker. I believe this movie is a perfect example of Christina Ricci's one dimensional acting. Horrible...\n",
      "\n",
      "Document 6259, score: 4.149400234222412\n",
      "This is a bad, bad movie. I'm an actual fencer: trust me when I say that this film's pretension of accuracy is just that. This is especially true during that vile little scene when the fencers are combining footwork with 80's pop. The ending is predictable, and the movie is a bore from start to finish. Horrible....\n",
      "\n",
      "Document 11198, score: 4.12470006942749\n",
      "Horrible waste of time - bad acting, plot, directing. This is the most boring movie EVER! There are bad movies that are fun (Freddy vs. Jason), and there are bad movies that are HORRIBLE. This one fits into the latter. Bottom Line - don't waste your time....\n",
      "\n",
      "Document 175, score: 4.07889986038208\n",
      "Horrible film with bits of the Ramones strewn about. Your worse than average 1970's/80's comedy format of the cool kids taking over the school with some whimsical plan. This movie is terrible. The plot consists of a girl who enjoys the Ramones and a school bent on fighting against their oppressive administration. Forget this movie and watch something like Wild Zero starring Guitar Wolf if you want an entertaining B movie. Terrible acting, terrible writing, terrible plot with the stamp of approva...\n",
      "\n",
      "Document 11469, score: 4.046000003814697\n",
      "This was one of the worst movies I've ever seen. Horrible acting,Not funny at all, and well just boring.<br /><br />I can only assume all these 10 out of 10 fav. all time movie comments are actually the actors themselves in disguise.<br /><br />Idk what the runtime on this movie is I'm sure its listed on this page It certainly felt like an eternity <br /><br />If your looking for a tough challenge,attempt to sit through this awful movie.<br /><br />otherwise<br /><br />Don't waste your time as I...\n",
      "\n",
      "Document 1765, score: 4.0243000984191895\n",
      "this movie was horrible. I could barely stay awake through it. I would never see this movie again if I were payed to. The so-called horror scenes in it were increadably predictable and over played. There was really nothing about this movie that would have made it original or worth the $7.50 I payed to see it. Don't go see it, don't rent it, don't read about it online because any of these things would be a complete waste of your time. Sarah Michelle Geller gave a lackluster performance and really...\n",
      "\n",
      "Document 10391, score: 4.024099826812744\n",
      "I should have known I was in trouble with Casper Van Diem as the lead character. Words cannot describe, nor do they do justice to just how terrible this movie was. But please allow me to try to describe it: Horrible acting, terrible dialog, corny situations and through it all you get the feeling that you are being force-fed the beliefs and propeganda from the Trinity Broadcasting Network. Its a weak attempt at trying to show Hollywood that a movie can be entertaining and have a deep, religious m...\n",
      "\n"
     ]
    }
   ],
   "source": [
    "for hit in hits:\n",
    "    print(f\"Document {hit.docid}, score: {hit.score}\")\n",
    "    print(f\"{hit.contents[:500]}...\")\n",
    "    print()"
   ]
  },
  {
   "cell_type": "code",
   "execution_count": null,
   "id": "09a5b200",
   "metadata": {},
   "outputs": [],
   "source": []
  }
 ],
 "metadata": {
  "kernelspec": {
   "display_name": "Python 3 (ipykernel)",
   "language": "python",
   "name": "python3"
  },
  "language_info": {
   "codemirror_mode": {
    "name": "ipython",
    "version": 3
   },
   "file_extension": ".py",
   "mimetype": "text/x-python",
   "name": "python",
   "nbconvert_exporter": "python",
   "pygments_lexer": "ipython3",
   "version": "3.10.9"
  }
 },
 "nbformat": 4,
 "nbformat_minor": 5
}
